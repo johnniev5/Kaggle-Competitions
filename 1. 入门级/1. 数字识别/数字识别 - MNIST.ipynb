{
 "cells": [
  {
   "cell_type": "markdown",
   "metadata": {},
   "source": [
    "说明：本实验内容是用的经典的数据集MNIST，数据集包含一个用于训练的train.csv和一个用于测试的test.csv。其中，train.csv中包含42000个样本，每个样本为一张手写数字图片，特征维度为784（28 * 28），第一列为标签列；test.csv中包含20000个样本，不包含标签列，只用于预测。"
   ]
  },
  {
   "cell_type": "markdown",
   "metadata": {},
   "source": [
    "首先，我们尝试使用经典的机器学习算法，来进行预测，看看效果，比如我们熟知的随机森林，SVM，还有简单的朴素贝叶斯，再用用后来的boosting方法的XGBoost和LightGBM。然后，我们再尝试使用基于深度学习的CNN，看看准确率和性能是否有提升。"
   ]
  },
  {
   "cell_type": "code",
   "execution_count": 1,
   "metadata": {
    "ExecuteTime": {
     "end_time": "2019-03-02T08:18:15.325869Z",
     "start_time": "2019-03-02T08:18:11.886126Z"
    }
   },
   "outputs": [],
   "source": [
    "# 加载数据\n",
    "\n",
    "import numpy as np\n",
    "import pandas as pd\n",
    "import seaborn as sns\n",
    "import matplotlib.pyplot as plt\n",
    "import warnings\n",
    "warnings.filterwarnings('ignore')\n",
    "\n",
    "sns.set(style='white', context='notebook', palette='deep')"
   ]
  },
  {
   "cell_type": "code",
   "execution_count": 2,
   "metadata": {
    "ExecuteTime": {
     "end_time": "2019-03-02T08:18:15.351645Z",
     "start_time": "2019-03-02T08:18:15.335988Z"
    }
   },
   "outputs": [],
   "source": [
    "def loaddata(file, train=True):\n",
    "    if train:\n",
    "        data_train = pd.read_csv(file)\n",
    "        X_train = data_train[data_train.columns[1:785]]\n",
    "        y_train = data_train['label']\n",
    "        return X_train, y_train\n",
    "    else:\n",
    "        data_test = pd.read_csv(file)\n",
    "        X_test = data_test\n",
    "        return X_test"
   ]
  },
  {
   "cell_type": "code",
   "execution_count": 3,
   "metadata": {
    "ExecuteTime": {
     "end_time": "2019-03-02T08:18:27.897592Z",
     "start_time": "2019-03-02T08:18:15.356802Z"
    }
   },
   "outputs": [],
   "source": [
    "X, y = loaddata('./数据集/train.csv')"
   ]
  },
  {
   "cell_type": "code",
   "execution_count": 4,
   "metadata": {
    "ExecuteTime": {
     "end_time": "2019-03-02T08:18:32.842236Z",
     "start_time": "2019-03-02T08:18:27.920952Z"
    }
   },
   "outputs": [],
   "source": [
    "X_test = loaddata('./数据集/test.csv', train=False)"
   ]
  },
  {
   "cell_type": "code",
   "execution_count": 5,
   "metadata": {
    "ExecuteTime": {
     "end_time": "2019-03-02T08:18:32.870111Z",
     "start_time": "2019-03-02T08:18:32.846108Z"
    }
   },
   "outputs": [
    {
     "data": {
      "text/plain": [
       "1    4684\n",
       "7    4401\n",
       "3    4351\n",
       "9    4188\n",
       "2    4177\n",
       "6    4137\n",
       "0    4132\n",
       "4    4072\n",
       "8    4063\n",
       "5    3795\n",
       "Name: label, dtype: int64"
      ]
     },
     "execution_count": 5,
     "metadata": {},
     "output_type": "execute_result"
    }
   ],
   "source": [
    "y.value_counts()"
   ]
  },
  {
   "cell_type": "code",
   "execution_count": 6,
   "metadata": {
    "ExecuteTime": {
     "end_time": "2019-03-02T08:18:33.620461Z",
     "start_time": "2019-03-02T08:18:32.873871Z"
    }
   },
   "outputs": [
    {
     "data": {
      "text/plain": [
       "<matplotlib.axes._subplots.AxesSubplot at 0x1063bbf60>"
      ]
     },
     "execution_count": 6,
     "metadata": {},
     "output_type": "execute_result"
    },
    {
     "data": {
      "image/png": "[encoded data removed]",
      "text/plain": [
       "<Figure size 432x288 with 1 Axes>"
      ]
     },
     "metadata": {},
     "output_type": "display_data"
    }
   ],
   "source": [
    "sns.countplot(y) # 样本类别是均匀的"
   ]
  },
  {
   "cell_type": "code",
   "execution_count": 7,
   "metadata": {
    "ExecuteTime": {
     "end_time": "2019-03-02T08:18:35.239639Z",
     "start_time": "2019-03-02T08:18:33.624880Z"
    }
   },
   "outputs": [
    {
     "data": {
      "text/plain": [
       "count       784\n",
       "unique        1\n",
       "top       False\n",
       "freq        784\n",
       "dtype: object"
      ]
     },
     "execution_count": 7,
     "metadata": {},
     "output_type": "execute_result"
    }
   ],
   "source": [
    "X.isnull().any().describe()"
   ]
  },
  {
   "cell_type": "code",
   "execution_count": 8,
   "metadata": {
    "ExecuteTime": {
     "end_time": "2019-03-02T08:18:35.769300Z",
     "start_time": "2019-03-02T08:18:35.245102Z"
    }
   },
   "outputs": [
    {
     "data": {
      "image/png": "[encoded data removed]",
      "text/plain": [
       "<Figure size 432x288 with 10 Axes>"
      ]
     },
     "metadata": {},
     "output_type": "display_data"
    }
   ],
   "source": [
    "# 数字可视化\n",
    "fig, ax = plt.subplots(nrows=2, ncols=5, sharex=True, sharey=True)\n",
    "ax = ax.flatten()\n",
    "\n",
    "for i in range(10):\n",
    "    img = np.array(X.iloc[i]).reshape(28, 28)\n",
    "    ax[i].imshow(img, cmap='Greys', interpolation='nearest')\n",
    "    \n",
    "ax[0].set_xticks([])\n",
    "ax[0].set_yticks([])\n",
    "plt.tight_layout()\n",
    "plt.show()"
   ]
  },
  {
   "cell_type": "code",
   "execution_count": 9,
   "metadata": {
    "ExecuteTime": {
     "end_time": "2019-03-02T08:18:43.026828Z",
     "start_time": "2019-03-02T08:18:35.774462Z"
    }
   },
   "outputs": [
    {
     "name": "stderr",
     "output_type": "stream",
     "text": [
      "Using TensorFlow backend.\n"
     ]
    }
   ],
   "source": [
    "# 训练模型\n",
    "\n",
    "from sklearn.naive_bayes import MultinomialNB\n",
    "from sklearn.svm import SVC\n",
    "from sklearn.ensemble import RandomForestClassifier\n",
    "from sklearn.model_selection import train_test_split, GridSearchCV\n",
    "from sklearn.metrics import confusion_matrix\n",
    "from keras.datasets import mnist"
   ]
  },
  {
   "cell_type": "code",
   "execution_count": 10,
   "metadata": {
    "ExecuteTime": {
     "end_time": "2019-03-02T08:18:44.388335Z",
     "start_time": "2019-03-02T08:18:43.033995Z"
    }
   },
   "outputs": [],
   "source": [
    "(Xtrain, ytrain), (Xtest, ytest) = mnist.load_data()\n",
    "Xtrain = Xtrain.reshape((-1, 28 * 28)) / 255.0\n",
    "Xtest = Xtest.reshape((-1, 28 * 28)) / 255.0"
   ]
  },
  {
   "cell_type": "code",
   "execution_count": 11,
   "metadata": {
    "ExecuteTime": {
     "end_time": "2019-03-02T08:18:46.749122Z",
     "start_time": "2019-03-02T08:18:44.392676Z"
    }
   },
   "outputs": [],
   "source": [
    "X_train = np.concatenate((Xtrain, X))\n",
    "y_train = np.concatenate((ytrain, y))"
   ]
  },
  {
   "cell_type": "code",
   "execution_count": 12,
   "metadata": {
    "ExecuteTime": {
     "end_time": "2019-03-02T08:18:49.506602Z",
     "start_time": "2019-03-02T08:18:46.753834Z"
    }
   },
   "outputs": [],
   "source": [
    "X_train, X_val, y_train, y_val = train_test_split(X_train, y_train, test_size=0.3)"
   ]
  },
  {
   "cell_type": "code",
   "execution_count": 13,
   "metadata": {
    "ExecuteTime": {
     "end_time": "2019-03-02T08:21:53.772512Z",
     "start_time": "2019-03-02T08:18:49.509718Z"
    }
   },
   "outputs": [
    {
     "data": {
      "text/plain": [
       "0.8220588235294117"
      ]
     },
     "execution_count": 13,
     "metadata": {},
     "output_type": "execute_result"
    }
   ],
   "source": [
    "mnb = MultinomialNB()\n",
    "gscv = GridSearchCV(mnb, {'alpha': [0, 0.1, 0.2, 0.3, 0.4, 0.5, 0.6, 0.7, 0.8, 0.9, 1.0]}, cv=10, n_jobs=-1)\n",
    "gscv.fit(X_train, y_train)\n",
    "mnb = MultinomialNB(alpha = gscv.best_params_['alpha'])\n",
    "mnb.fit(X_train, y_train)\n",
    "mnb.score(X_val, y_val)"
   ]
  },
  {
   "cell_type": "code",
   "execution_count": null,
   "metadata": {
    "ExecuteTime": {
     "start_time": "2019-03-02T08:18:11.934Z"
    }
   },
   "outputs": [],
   "source": [
    "rf = RandomForestClassifier()\n",
    "gscv = GridSearchCV(rf, {'n_estimators': [50, 80, 100, 200],\n",
    "                         'max_depth': [3, 10, 30, 50],\n",
    "                         'min_samples_split': [2, 5, 10],\n",
    "                         'min_samples_leaf': [1, 2, 5],\n",
    "                         'random_state': range(101)}, cv=10, n_jobs=-1)\n",
    "gscv.fit(X_train, y_train)\n",
    "rfc = RandomForestClassifier(n_estimators=gscv.best_params_['n_estimators'],\n",
    "                             max_depth=gscv.best_params_['max_depth'],\n",
    "                             min_samples_split=gscv.best_params_['min_samples_split'],\n",
    "                             min_samples_leaf=gscv.best_params_['min_samples_leaf'],\n",
    "                             random_state=gscv.best_params_['random_state'])\n",
    "rfc.fit(X_train, y_train)\n",
    "rfc.score(X_val, y_val)"
   ]
  },
  {
   "cell_type": "markdown",
   "metadata": {},
   "source": [
    "在此之前，看一下使用全连接DNN，是否跟传统机器学习算法有什么不同？"
   ]
  },
  {
   "cell_type": "code",
   "execution_count": null,
   "metadata": {
    "ExecuteTime": {
     "start_time": "2019-03-02T08:18:11.942Z"
    }
   },
   "outputs": [],
   "source": [
    "from keras import layers, models, utils, callbacks\n",
    "from keras import datasets"
   ]
  },
  {
   "cell_type": "code",
   "execution_count": null,
   "metadata": {
    "ExecuteTime": {
     "start_time": "2019-03-02T08:18:11.947Z"
    }
   },
   "outputs": [],
   "source": [
    "X_train = np.array(X_train)\n",
    "X_val = np.array(X_val)\n",
    "X_test = np.array(Xtest)\n",
    "\n",
    "y_train = utils.to_categorical(y_train, num_classes=10)\n",
    "y_val = utils.to_categorical(y_val, num_classes=10)"
   ]
  },
  {
   "cell_type": "code",
   "execution_count": null,
   "metadata": {
    "ExecuteTime": {
     "start_time": "2019-03-02T08:18:11.955Z"
    },
    "code_folding": []
   },
   "outputs": [],
   "source": [
    "max_val_acc = []\n",
    "params = []\n",
    "\n",
    "early_stopping = callbacks.EarlyStopping(patience=50) \n",
    "\n",
    "for hidden_size1 in [64, 128, 256, 512]:\n",
    "    for hidden_size2 in [64, 128, 256, 512]:\n",
    "        for activation in ['elu', 'selu', 'relu']:\n",
    "            for epochs in [10, 50, 100, 200]:\n",
    "                for batch_size in [100, 200, 500, 1000]:\n",
    "                    model = models.Sequential()\n",
    "                    model.add(layers.Dense(hidden_size1, activation=activation))\n",
    "                    model.add(layers.Dense(hidden_size2, activation=activation))\n",
    "                    model.add(layers.Dense(10, activation='softmax'))\n",
    "\n",
    "                    model.compile(optimizer='adam', loss='categorical_crossentropy', metrics=['accuracy'])\n",
    "                    history = model.fit(X_train, y_train, epochs=epochs, batch_size=batch_size, validation_data=(X_val, y_val), verbose=0, callbacks=[early_stopping])\n",
    "                    \n",
    "                    max_val_acc.append(max(history.history['val_acc']))\n",
    "                    params.append([hidden_size1, hidden_size2, activation, epochs, batch_size])"
   ]
  },
  {
   "cell_type": "code",
   "execution_count": null,
   "metadata": {
    "ExecuteTime": {
     "start_time": "2019-03-02T08:18:11.960Z"
    }
   },
   "outputs": [],
   "source": [
    "best_params = params[np.argmax(max_val_acc)]\n",
    "\n",
    "model = models.Sequential()\n",
    "model.add(layers.Dense(best_params[0], activation=best_params[2]))\n",
    "model.add(layers.Dense(best_params[1], activation=best_params[2]))\n",
    "model.add(layers.Dense(10, activation='softmax'))\n",
    "\n",
    "model.compile(optimizer='adam', loss='categorical_crossentropy', metrics=['accuracy'])\n",
    "model.fit(X_train, y_train, epochs=best_params[3], batch_size=best_params[4], validation_data=(X_val, y_val), callbacks=[early_stopping])"
   ]
  },
  {
   "cell_type": "markdown",
   "metadata": {},
   "source": [
    "选择使用CNN来验证评估结果是否会有提高。"
   ]
  },
  {
   "cell_type": "code",
   "execution_count": null,
   "metadata": {
    "ExecuteTime": {
     "start_time": "2019-03-02T08:18:11.965Z"
    }
   },
   "outputs": [],
   "source": [
    "X_train = X_train.reshape(-1, 28, 28, 1)\n",
    "X_val = X_val.reshape(-1, 28, 28, 1)\n",
    "X_test = X_test.reshape(-1, 28, 28, 1)"
   ]
  },
  {
   "cell_type": "code",
   "execution_count": null,
   "metadata": {
    "ExecuteTime": {
     "start_time": "2019-03-02T08:18:11.971Z"
    }
   },
   "outputs": [],
   "source": [
    "max_val_acc = []\n",
    "params = []\n",
    "\n",
    "for hidden_size1 in [64, 128, 256, 512]:\n",
    "    for hidden_size2 in [64, 128, 256, 512]:\n",
    "        for hidden_size3 in [64, 128, 256, 512]:\n",
    "            for activation in ['elu', 'selu', 'relu']:\n",
    "                for window_size in [1, 3, 5]:\n",
    "                    for pooling_size in [1, 2, 3]:\n",
    "                        for dropout1 in [0.1, 0.2, 0.3]:\n",
    "                            for dropout2 in [0.2, 0.3, 0.4]:\n",
    "                                for dropout3 in [0.5, 0.6, 0.7]:\n",
    "                                    for epochs in [10, 50, 100, 200]:\n",
    "                                        for batch_size in [100, 300, 500, 1000]:        \n",
    "                                            model = models.Sequential()\n",
    "                                            model.add(layers.Conv2D(hidden_size1, (window_size, window_size), activation='relu'))\n",
    "                                            model.add(layers.MaxPooling2D((pooling_size, pooling_size)))\n",
    "                                            model.add(layers.SpatialDropout2D(dropout1))\n",
    "                                            model.add(layers.Conv2D(hidden_size2, (window_size, window_size), activation='relu'))\n",
    "                                            model.add(layers.MaxPooling2D((pooling_size, pooling_size)))\n",
    "                                            model.add(layers.SpatialDropout2D(dropout2))\n",
    "                                            model.add(layers.Conv2D(hidden_size3, (window_size, window_size), activation='relu'))\n",
    "                                            model.add(layers.MaxPooling2D((pooling_size, pooling_size)))\n",
    "                                            model.add(layers.SpatialDropout2D(dropout3))\n",
    "\n",
    "                                            model.add(layers.Flatten())\n",
    "                                            model.add(layers.Dense(10, activation='softmax'))\n",
    "\n",
    "                                            model.compile(optimizer='adam', loss='categorical_crossentropy', metrics=['accuracy'])\n",
    "                                            history = model.fit(X_train, y_train, epochs=epochs, batch_size=batch_size, validation_data=(X_val, y_val), verbose=0, callbacks=[early_stopping])\n",
    "                                            \n",
    "                                            max_val_acc.append(max(history.history['val_acc']))\n",
    "                                            params.append([hidden_size1, hidden_size2, hidden_size3, activation, window_size, pooling_size, dropout1, dropout2, dropout3, epochs, batch_size])"
   ]
  },
  {
   "cell_type": "code",
   "execution_count": null,
   "metadata": {
    "ExecuteTime": {
     "start_time": "2019-03-02T08:18:11.974Z"
    }
   },
   "outputs": [],
   "source": [
    "best_params = params[np.argmax(max_val_acc)]\n",
    "\n",
    "model = models.Sequential()\n",
    "model.add(layers.Conv2D(best_params[0], (best_params[4], best_params[4]), activation=best_params[3]))\n",
    "model.add(layers.MaxPooling2D((best_params[5], best_params[5])))\n",
    "model.add(layers.SpatialDropout2D(best_params[6]))\n",
    "model.add(layers.Conv2D(best_params[1], (best_params[4], best_params[4]), activation='relu'))\n",
    "model.add(layers.MaxPooling2D((best_params[5], best_params[5])))\n",
    "model.add(layers.SpatialDropout2D(best_params[7]))\n",
    "model.add(layers.Conv2D(best_params[2], (best_params[4], best_params[4]), activation='relu'))\n",
    "model.add(layers.MaxPooling2D((best_params[5], best_params[5])))\n",
    "model.add(layers.SpatialDropout2D(best_params[8]))\n",
    "\n",
    "model.add(layers.Flatten())\n",
    "model.add(layers.Dense(10, activation='softmax'))\n",
    "\n",
    "model.compile(optimizer='adam', loss='categorical_crossentropy', metrics=['accuracy'])\n",
    "model.fit(X_train, y_train, epochs=best_params[9], batch_size=best_params[10], validation_data=(X_val, y_val), callbacks=[early_stopping])"
   ]
  },
  {
   "cell_type": "code",
   "execution_count": null,
   "metadata": {
    "ExecuteTime": {
     "start_time": "2019-03-02T08:18:11.980Z"
    }
   },
   "outputs": [],
   "source": [
    "model.summary()"
   ]
  },
  {
   "cell_type": "markdown",
   "metadata": {},
   "source": [
    "在图像识别的例子中，默认会采用CNN来处理，为防止过拟合采取的步骤有数据增强，使用Dropout机制，和BatchNormalization"
   ]
  }
 ],
 "metadata": {
  "kernelspec": {
   "display_name": "Python 3",
   "language": "python",
   "name": "python3"
  },
  "language_info": {
   "codemirror_mode": {
    "name": "ipython",
    "version": 3
   },
   "file_extension": ".py",
   "mimetype": "text/x-python",
   "name": "python",
   "nbconvert_exporter": "python",
   "pygments_lexer": "ipython3",
   "version": "3.6.5"
  }
 },
 "nbformat": 4,
 "nbformat_minor": 2
}
