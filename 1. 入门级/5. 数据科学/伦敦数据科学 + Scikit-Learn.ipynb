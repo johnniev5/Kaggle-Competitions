{
 "cells": [
  {
   "cell_type": "markdown",
   "metadata": {},
   "source": [
    "说明：这就是一个简单的scikit-learn工具的使用，但不同的是训练数据集1000个，而测试数据有9000个，二分类问题。\n",
    "\n",
    "同时，这边的数据都是数值，并且都已经标准化过，我们先来加载一下数据看看。"
   ]
  },
  {
   "cell_type": "code",
   "execution_count": 1,
   "metadata": {
    "ExecuteTime": {
     "end_time": "2019-02-23T13:26:35.563048Z",
     "start_time": "2019-02-23T13:26:32.009142Z"
    }
   },
   "outputs": [],
   "source": [
    "import numpy as np\n",
    "import pandas as pd\n",
    "import matplotlib.pyplot as plt\n",
    "import warnings\n",
    "warnings.filterwarnings('ignore')"
   ]
  },
  {
   "cell_type": "code",
   "execution_count": 2,
   "metadata": {
    "ExecuteTime": {
     "end_time": "2019-02-23T13:26:35.574796Z",
     "start_time": "2019-02-23T13:26:35.568377Z"
    }
   },
   "outputs": [],
   "source": [
    "def loadata(file_train, file_label, file_test):\n",
    "    X_train = pd.read_csv(file_train, header=None)\n",
    "    y_train = pd.read_csv(file_label, header=None)\n",
    "    X_test = pd.read_csv(file_test, header=None)\n",
    "    return X_train, y_train, X_test"
   ]
  },
  {
   "cell_type": "code",
   "execution_count": 3,
   "metadata": {
    "ExecuteTime": {
     "end_time": "2019-02-23T13:26:36.846698Z",
     "start_time": "2019-02-23T13:26:35.578635Z"
    }
   },
   "outputs": [],
   "source": [
    "X_train, y_train, X_test = loadata('./数据集/train.csv', './数据集/trainLabels.csv', './数据集/test.csv')\n",
    "y_train = np.array(y_train).ravel()"
   ]
  },
  {
   "cell_type": "markdown",
   "metadata": {},
   "source": [
    "这边对于模型的选择，尝试使用LR，SVM，RF，GBDT，XGBOOST"
   ]
  },
  {
   "cell_type": "code",
   "execution_count": 4,
   "metadata": {
    "ExecuteTime": {
     "end_time": "2019-02-23T13:26:39.674122Z",
     "start_time": "2019-02-23T13:26:36.858816Z"
    }
   },
   "outputs": [],
   "source": [
    "from sklearn.model_selection import train_test_split, GridSearchCV\n",
    "from sklearn.linear_model import LogisticRegression\n",
    "from sklearn.preprocessing import PolynomialFeatures\n",
    "from sklearn.svm import SVC\n",
    "from sklearn.ensemble import RandomForestClassifier, GradientBoostingClassifier\n",
    "import xgboost as xgb"
   ]
  },
  {
   "cell_type": "code",
   "execution_count": 5,
   "metadata": {
    "ExecuteTime": {
     "end_time": "2019-02-23T13:26:41.986921Z",
     "start_time": "2019-02-23T13:26:39.680689Z"
    }
   },
   "outputs": [],
   "source": [
    "pf = PolynomialFeatures(2)\n",
    "X_train = pf.fit_transform(X_train)"
   ]
  },
  {
   "cell_type": "code",
   "execution_count": 6,
   "metadata": {
    "ExecuteTime": {
     "end_time": "2019-02-23T13:26:42.278826Z",
     "start_time": "2019-02-23T13:26:41.993026Z"
    }
   },
   "outputs": [],
   "source": [
    "Xtrain, Xval, ytrain, yval = train_test_split(X_train, y_train)"
   ]
  },
  {
   "cell_type": "code",
   "execution_count": null,
   "metadata": {
    "ExecuteTime": {
     "start_time": "2019-02-23T13:26:32.017Z"
    }
   },
   "outputs": [],
   "source": [
    "lr = LogisticRegression()\n",
    "gscv_lr = GridSearchCV(lr, {'penalty': ['l1', 'l2'],\n",
    "                            'tol': [1e-4, 1e-5, 1e-6],\n",
    "                            'C': [0.1, 0.5, 1.0, 2.0, 5.0, 10.0],\n",
    "                            'random_state': range(501),\n",
    "                            'solver':['newton-cg', 'lbfgs', 'liblinear', 'sag', 'saga'],\n",
    "                            'max_iter': [100, 200, 500, 1000, 2000, 5000]}, cv=10, n_jobs=-1)\n",
    "gscv_lr.fit(Xtrain, ytrain)\n",
    "lr = LogisticRegression(penalty=gscv.best_params_['penalty'], tol=gscv.best_params_['tol'],\n",
    "                        C=gscv.best_params_['C'], random_state=gscv.best_params_['random_state'],\n",
    "                        solver=gscv.best_params_['solver'], max_iter=gscv.best_params_['max_iter'])\n",
    "lr.fit(Xtrain, ytrain)"
   ]
  },
  {
   "cell_type": "code",
   "execution_count": null,
   "metadata": {
    "ExecuteTime": {
     "start_time": "2019-02-23T13:26:32.026Z"
    }
   },
   "outputs": [],
   "source": [
    "lr.score(Xval, yval)"
   ]
  },
  {
   "cell_type": "code",
   "execution_count": null,
   "metadata": {
    "ExecuteTime": {
     "start_time": "2019-02-23T13:26:32.037Z"
    }
   },
   "outputs": [],
   "source": [
    "svm_c = SVC()\n",
    "gscv_svc = GridSearchCV(svm_c, {'C': [0.1, 0.5, 1.0, 2.0, 5.0, 10.0],\n",
    "                                'kernel': ['linear', 'rbf'],\n",
    "                                'tol': [1e-3, 1e-4, 1e-5, 1e-6],\n",
    "                                'random_state': range(101)}, cv=10, n_jobs=-1)\n",
    "gscv_svc.fit(Xtrain, ytrain)\n",
    "svm_c = SVC(C=gscv.best_params_['C'], kernel=gscv.best_params_['kernel'],\n",
    "            tol=gscv.best_params_['tol'], random_state=gscv.best_params_['random_state'])\n",
    "svm_c.fit(Xtrain, ytrain)"
   ]
  },
  {
   "cell_type": "code",
   "execution_count": null,
   "metadata": {
    "ExecuteTime": {
     "start_time": "2019-02-23T13:26:32.042Z"
    }
   },
   "outputs": [],
   "source": [
    "svm_c.score(Xval, yval)"
   ]
  },
  {
   "cell_type": "code",
   "execution_count": null,
   "metadata": {
    "ExecuteTime": {
     "start_time": "2019-02-23T13:26:32.048Z"
    }
   },
   "outputs": [],
   "source": [
    "rfc = RandomForestClassifier()\n",
    "gscv_rfc = GridSearchCV(rfc, {'n_estimators': [50, 80, 100, 200],\n",
    "                              'max_depth': [3, 10, 30, 50],\n",
    "                              'min_samples_split': [2, 5, 10],\n",
    "                              'min_samples_leaf': [1, 2, 5],\n",
    "                              'random_state': range(101)}, cv=10, n_jobs=-1)\n",
    "gscv_rfc.fit(Xtrain, ytrain)\n",
    "rfc = RandomForestClassifier(n_estimators=gscv.best_params_['n_estimators'],\n",
    "                             max_depth=gscv.best_params_['max_depth'],\n",
    "                             min_samples_split=gscv.best_params_['min_samples_split'],\n",
    "                             min_samples_leaf=gscv.best_params_['min_samples_leaf'],\n",
    "                             random_state=gscv.best_params_['random_state'])\n",
    "rfc.fit(Xtrain, ytrain)"
   ]
  },
  {
   "cell_type": "code",
   "execution_count": null,
   "metadata": {
    "ExecuteTime": {
     "start_time": "2019-02-23T13:26:32.053Z"
    }
   },
   "outputs": [],
   "source": [
    "rfc.score(Xval, yval)"
   ]
  },
  {
   "cell_type": "code",
   "execution_count": null,
   "metadata": {
    "ExecuteTime": {
     "start_time": "2019-02-23T13:26:32.057Z"
    }
   },
   "outputs": [],
   "source": [
    "gbdt = GradientBoostingClassifier()\n",
    "gscv_gbdt = GridSearchCV(gbdt, {'n_estimators': [50, 80, 100, 200],\n",
    "                                'max_depth': [3, 5, 10, 30, 50],\n",
    "                                'learning_rate': [0.05, 0.1, 0.2],\n",
    "                                'min_samples_split': [2, 5, 10],\n",
    "                                'min_samples_leaf': [1, 2, 5],\n",
    "                                'subsample': [0.6, 0.8, 1.0],\n",
    "                                'random_state': range(101)}, cv=10, n_jobs=-1)\n",
    "gscv_gbdt.fit(Xtrain, ytrain)\n",
    "gbdt = GradientBoostingClassifier(loss='exponential',\n",
    "                                  n_estimators=gscv.best_params_['n_estimators'],\n",
    "                                  max_depth=gscv.best_params_['max_depth'],\n",
    "                                  learning_rate=gscv.best_params_['learning_rate'],\n",
    "                                  min_samples_split=gscv.best_params_['min_samples_split'],\n",
    "                                  min_samples_leaf=gscv.best_params_['min_samples_leaf'],\n",
    "                                  subsample=gscv.best_params_['subsample'],\n",
    "                                  random_state=gscv.best_params_['random_state'])\n",
    "gbdt.fit(Xtrain, ytrain)"
   ]
  },
  {
   "cell_type": "code",
   "execution_count": null,
   "metadata": {
    "ExecuteTime": {
     "start_time": "2019-02-23T13:26:32.061Z"
    }
   },
   "outputs": [],
   "source": [
    "gbdt.score(Xval, yval)"
   ]
  },
  {
   "cell_type": "code",
   "execution_count": null,
   "metadata": {
    "ExecuteTime": {
     "start_time": "2019-02-23T13:26:32.066Z"
    }
   },
   "outputs": [],
   "source": [
    "xgbc = xgb.XGBClassifier()\n",
    "gscv_xgbc = GridSearchCV(xgbc, {'n_estimators': [50, 80, 100, 200],\n",
    "                                'max_depth': [3, 5, 10, 30, 50],\n",
    "                                'learning_rate': [0.05, 0.1, 0.2],\n",
    "                                'min_child_weight': [3, 5, 7, 9],\n",
    "                                'subsample': [0.6, 0.8, 1.0],\n",
    "                                'colsample_bytree': [0.6, 0.8, 0.1],\n",
    "                                'reg_lambda': [0.01, 0.05, 0.1, 0.5, 1.0],\n",
    "                                'reg_alpha': [0, 0.1, 0.5, 1.0],\n",
    "                                'random_state': range(101)}, cv=10, n_jobs=-1)\n",
    "gscv_xgbc.fit(Xtrain, ytrain)\n",
    "xgbc = xgb.XGBClassifier(n_estimators=gscv_xgbc.best_params_['n_estimators'],\n",
    "                         max_depth=gscv_xgbc.best_params_['max_depth'],\n",
    "                         learning_rate=gscv_xgbc.best_params_['learning_rate'],\n",
    "                         min_child_weight=gscv_xgbc.best_params_['min_child_weight'],\n",
    "                         subsample=gscv_xgbc.best_params_['subsample'],\n",
    "                         colsample_bytree=gscv_xgbc.best_params_['colsample_bytree'],\n",
    "                         reg_lambda=gscv_xgbc.best_params_['reg_lambda'],\n",
    "                         reg_alpha=gscv_xgbc.best_params_['reg_alpha'],\n",
    "                         random_state=gscv_xgbc.best_params_['random_state'])\n",
    "xgbc.fit(Xtrain, ytrain)"
   ]
  },
  {
   "cell_type": "code",
   "execution_count": null,
   "metadata": {
    "ExecuteTime": {
     "start_time": "2019-02-23T13:26:32.070Z"
    }
   },
   "outputs": [],
   "source": [
    "xgbc.score(Xval, yval)"
   ]
  },
  {
   "cell_type": "code",
   "execution_count": null,
   "metadata": {
    "ExecuteTime": {
     "start_time": "2019-02-23T13:26:32.077Z"
    }
   },
   "outputs": [],
   "source": [
    "import tpot"
   ]
  },
  {
   "cell_type": "code",
   "execution_count": null,
   "metadata": {
    "ExecuteTime": {
     "start_time": "2019-02-23T13:26:32.080Z"
    }
   },
   "outputs": [],
   "source": [
    "tpotc = tpot.TPOTClassifier(n_jobs=-1, early_stop=True, verbosity=2)\n",
    "tpotc.fit(X_train, y_train)"
   ]
  },
  {
   "cell_type": "code",
   "execution_count": null,
   "metadata": {
    "ExecuteTime": {
     "start_time": "2019-02-23T13:26:32.084Z"
    }
   },
   "outputs": [],
   "source": [
    "tpotc.predict(X_test)"
   ]
  }
 ],
 "metadata": {
  "kernelspec": {
   "display_name": "Python 3",
   "language": "python",
   "name": "python3"
  },
  "language_info": {
   "codemirror_mode": {
    "name": "ipython",
    "version": 3
   },
   "file_extension": ".py",
   "mimetype": "text/x-python",
   "name": "python",
   "nbconvert_exporter": "python",
   "pygments_lexer": "ipython3",
   "version": "3.6.5"
  }
 },
 "nbformat": 4,
 "nbformat_minor": 2
}
